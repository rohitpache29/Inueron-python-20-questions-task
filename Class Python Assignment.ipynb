{
 "cells": [
  {
   "cell_type": "markdown",
   "id": "d7dddbec",
   "metadata": {},
   "source": [
    "### 1 . you have to write a fun which will take string and return a len of it without using a inbuilt fun len"
   ]
  },
  {
   "cell_type": "code",
   "execution_count": 6,
   "id": "24d47384",
   "metadata": {},
   "outputs": [],
   "source": [
    "def str_len(a):\n",
    "    \"\"\"This function is going to return a length of the given function\"\"\"\n",
    "    l=0\n",
    "    if type(a)==str:\n",
    "        for i in a:\n",
    "            l+=1\n",
    "        return l\n",
    "    else:\n",
    "        return \"Data type is not string\""
   ]
  },
  {
   "cell_type": "code",
   "execution_count": 7,
   "id": "a780f926",
   "metadata": {},
   "outputs": [
    {
     "data": {
      "text/plain": [
       "9"
      ]
     },
     "execution_count": 7,
     "metadata": {},
     "output_type": "execute_result"
    }
   ],
   "source": [
    "str_len('erereredf')"
   ]
  },
  {
   "cell_type": "markdown",
   "id": "28e8e0f9",
   "metadata": {},
   "source": [
    "### 2 . write a fun which will be able to print an index of all premitive element which you will pass "
   ]
  },
  {
   "cell_type": "code",
   "execution_count": 21,
   "id": "71633843",
   "metadata": {},
   "outputs": [],
   "source": [
    "def index(b):\n",
    "    \"\"\"This function will be able to print an index of all premitive element which you will pass\"\"\"\n",
    "    if type(b) in [list,tuple,set,str]:\n",
    "        for i,j in enumerate(b):\n",
    "            print(f\"index of element {j} is : {i}\")\n",
    "    else:\n",
    "        return \"Please enter iterable as an argument\"\n",
    "            "
   ]
  },
  {
   "cell_type": "code",
   "execution_count": 22,
   "id": "41868851",
   "metadata": {},
   "outputs": [
    {
     "name": "stdout",
     "output_type": "stream",
     "text": [
      "index of element string is : 0\n",
      "index of element 3 is : 1\n",
      "index of element 4 is : 2\n"
     ]
    }
   ],
   "source": [
    "index({'string',3,4})"
   ]
  },
  {
   "cell_type": "markdown",
   "id": "8cf6c63c",
   "metadata": {},
   "source": [
    "### 3 . Write a fun which will take input as a dict and give me out as a list of all the values even in case of 2 level nesting it should work ."
   ]
  },
  {
   "cell_type": "code",
   "execution_count": 24,
   "id": "82d3ab39",
   "metadata": {},
   "outputs": [],
   "source": [
    "def dict_to_list(c):\n",
    "    \"\"\"### 3 . Write a fun which will take input as a dict and \n",
    "    give me out as a list of all the values even in case of 2 level\n",
    "    nesting it should work .\"\"\"\n",
    "    l=[]\n",
    "    if type(c) == dict:\n",
    "        for i in c.values():\n",
    "            if type(i) == dict:\n",
    "                for j in i.values():\n",
    "                    l.append(j)\n",
    "            else:\n",
    "                l.append(i)\n",
    "        return l\n",
    "    else:\n",
    "        return \"Please enter dictionary as an argument\""
   ]
  },
  {
   "cell_type": "code",
   "execution_count": 26,
   "id": "1bc831b6",
   "metadata": {},
   "outputs": [
    {
     "data": {
      "text/plain": [
       "[3443, 'dfdff']"
      ]
     },
     "execution_count": 26,
     "metadata": {},
     "output_type": "execute_result"
    }
   ],
   "source": [
    "dict_to_list({'rohith':3443,'erefre':'dfdff'})"
   ]
  },
  {
   "cell_type": "markdown",
   "id": "f83dafe1",
   "metadata": {},
   "source": [
    "### 4 . write a fun which will take another function as an input and return me an output "
   ]
  },
  {
   "cell_type": "code",
   "execution_count": 30,
   "id": "206b3316",
   "metadata": {},
   "outputs": [],
   "source": [
    "def inside_function(s):\n",
    "    return \"inside \" + str(s) + \" inside\""
   ]
  },
  {
   "cell_type": "code",
   "execution_count": 31,
   "id": "27a65a4c",
   "metadata": {},
   "outputs": [],
   "source": [
    "def outside_function(f):\n",
    "    \"\"\"Takes another function as an input an return an output\"\"\"\n",
    "    st = input('Enter anything:')\n",
    "    return \"outside \" + f(st) + \" outside\""
   ]
  },
  {
   "cell_type": "code",
   "execution_count": 32,
   "id": "ed1db7a8",
   "metadata": {},
   "outputs": [
    {
     "name": "stdout",
     "output_type": "stream",
     "text": [
      "Enter anything:rtrytryty\n"
     ]
    },
    {
     "data": {
      "text/plain": [
       "'outside inside rtrytryty inside outside'"
      ]
     },
     "execution_count": 32,
     "metadata": {},
     "output_type": "execute_result"
    }
   ],
   "source": [
    "outside_function(inside_function)"
   ]
  },
  {
   "cell_type": "markdown",
   "id": "05b777ad",
   "metadata": {},
   "source": [
    "### 5. write a function which will take multiple list as a input and give me concatnation of all the element as and output "
   ]
  },
  {
   "cell_type": "code",
   "execution_count": 35,
   "id": "fad780ff",
   "metadata": {},
   "outputs": [],
   "source": [
    "def concate_list(*args):\n",
    "    \"\"\"Take multiple list as an input and concate all the elements\"\"\"\n",
    "    l=[]\n",
    "    for i in args:\n",
    "        if type(i)== list:\n",
    "            l.extend(i)\n",
    "    return l"
   ]
  },
  {
   "cell_type": "code",
   "execution_count": 36,
   "id": "ac17f846",
   "metadata": {},
   "outputs": [
    {
     "data": {
      "text/plain": [
       "[33, 4, 5, 45, 56, 'tfohfidfi']"
      ]
     },
     "execution_count": 36,
     "metadata": {},
     "output_type": "execute_result"
    }
   ],
   "source": [
    "concate_list([33,4,5,45,56,],['tfohfidfi'])"
   ]
  },
  {
   "cell_type": "markdown",
   "id": "bf273949",
   "metadata": {},
   "source": [
    "### 6 . write a function which will be able to take a list as an input return an index of each element like a inbuilt index function but even if we have repetative element it should return index "
   ]
  },
  {
   "cell_type": "code",
   "execution_count": 37,
   "id": "ce5277bf",
   "metadata": {},
   "outputs": [],
   "source": [
    "def list_index(l):\n",
    "    if type(l) == list:\n",
    "        d = {}\n",
    "        for i,j in enumerate(l):\n",
    "            if j in d.keys():\n",
    "                d[j].appned(i)\n",
    "            else:\n",
    "                d[j]=[i]\n",
    "        return d\n",
    "    else:\n",
    "        return \"Please enter list as an argument\"\n",
    "    \n",
    "                "
   ]
  },
  {
   "cell_type": "code",
   "execution_count": 38,
   "id": "d0971fb2",
   "metadata": {},
   "outputs": [
    {
     "data": {
      "text/plain": [
       "{3: [0], 5: [1], 6: [2], 667: [3]}"
      ]
     },
     "execution_count": 38,
     "metadata": {},
     "output_type": "execute_result"
    }
   ],
   "source": [
    "list_index([3,5,6,667])"
   ]
  },
  {
   "cell_type": "markdown",
   "id": "6267f711",
   "metadata": {},
   "source": [
    "### 7 . Write a function which will whould return list of all the file name from a directory ."
   ]
  },
  {
   "cell_type": "code",
   "execution_count": 4,
   "id": "887ae002",
   "metadata": {},
   "outputs": [],
   "source": [
    "import os\n",
    "def file_list(dir_path):\n",
    "    if os.path.exists(dir_path):\n",
    "        l = []\n",
    "        for f in os.listdir(dir_path):\n",
    "            if os.path.isfile(os.path.join(dir_path,f)):\n",
    "                l.append(f)\n",
    "        return l\n",
    "    else:\n",
    "        return \"Please enter correct path as an argument\""
   ]
  },
  {
   "cell_type": "code",
   "execution_count": 7,
   "id": "786fb6fa",
   "metadata": {},
   "outputs": [
    {
     "data": {
      "text/plain": [
       "['.bash_history',\n",
       " '.bash_profile',\n",
       " '.condarc',\n",
       " '.git-for-windows-updater',\n",
       " '.gitconfig',\n",
       " '.lesshst',\n",
       " 'NTUSER.DAT',\n",
       " 'ntuser.dat.LOG1',\n",
       " 'ntuser.dat.LOG2',\n",
       " 'NTUSER.DAT{1ad50a11-536d-11ed-9ce7-80959701d6c6}.TM.blf',\n",
       " 'NTUSER.DAT{1ad50a11-536d-11ed-9ce7-80959701d6c6}.TMContainer00000000000000000001.regtrans-ms',\n",
       " 'NTUSER.DAT{1ad50a11-536d-11ed-9ce7-80959701d6c6}.TMContainer00000000000000000002.regtrans-ms',\n",
       " 'ntuser.ini']"
      ]
     },
     "execution_count": 7,
     "metadata": {},
     "output_type": "execute_result"
    }
   ],
   "source": [
    "file_list('C:\\\\Users\\\\rohit')"
   ]
  },
  {
   "cell_type": "markdown",
   "id": "eccf558a",
   "metadata": {},
   "source": [
    "### 8  . write a function which will be able to show your system configuration "
   ]
  },
  {
   "cell_type": "code",
   "execution_count": 8,
   "id": "4b9282f9",
   "metadata": {},
   "outputs": [],
   "source": [
    "import platform,socket,re,psutil,uuid\n",
    "def sys_config():\n",
    "    \"\"\"\n",
    "    This function displays my system configuration\n",
    "    \"\"\"\n",
    "    info={}\n",
    "    uname = platform.uname()\n",
    "    info['platform']=platform.system()\n",
    "    info['platform-release']=platform.release()\n",
    "    info['platform-version']=platform.version()\n",
    "    info['processor']=uname.processor\n",
    "    info['architecture']=platform.machine()\n",
    "    info['hostname']=socket.gethostname()\n",
    "    info['ip-address']=socket.gethostbyname(socket.gethostname())\n",
    "    info['mac-address']=':'.join(re.findall('..', '%012x' % uuid.getnode()))\n",
    "    info['processor']=platform.processor()\n",
    "    info['ram']=str(round(psutil.virtual_memory().total / (1024.0 **3)))+\" GB\"\n",
    "    return info"
   ]
  },
  {
   "cell_type": "code",
   "execution_count": 10,
   "id": "1f346bf6",
   "metadata": {},
   "outputs": [
    {
     "data": {
      "text/plain": [
       "{'platform': 'Windows',\n",
       " 'platform-release': '10',\n",
       " 'platform-version': '10.0.22621',\n",
       " 'processor': 'Intel64 Family 6 Model 140 Stepping 1, GenuineIntel',\n",
       " 'architecture': 'AMD64',\n",
       " 'hostname': 'Rohit',\n",
       " 'ip-address': '192.168.0.179',\n",
       " 'mac-address': 'f9:74:4d:eb:0d:fb',\n",
       " 'ram': '8 GB'}"
      ]
     },
     "execution_count": 10,
     "metadata": {},
     "output_type": "execute_result"
    }
   ],
   "source": [
    "sys_config()"
   ]
  },
  {
   "cell_type": "markdown",
   "id": "b75fc502",
   "metadata": {},
   "source": [
    "### 9 . write a function which will be able to show date and time "
   ]
  },
  {
   "cell_type": "code",
   "execution_count": 12,
   "id": "2a1aa9d3",
   "metadata": {},
   "outputs": [],
   "source": [
    "def date_time():\n",
    "    import datetime\n",
    "    today= datetime.datetime.now()\n",
    "    today_format = today.strftime(\"%m-%d-%Y,%H:%M:%S\")\n",
    "    return today_format"
   ]
  },
  {
   "cell_type": "code",
   "execution_count": 13,
   "id": "503504b9",
   "metadata": {},
   "outputs": [
    {
     "data": {
      "text/plain": [
       "'12-21-2022,21:21:03'"
      ]
     },
     "execution_count": 13,
     "metadata": {},
     "output_type": "execute_result"
    }
   ],
   "source": [
    "date_time()"
   ]
  },
  {
   "cell_type": "markdown",
   "id": "7a2cf475",
   "metadata": {},
   "source": [
    "### 10 . write a function whihc will be able to read a image file and show it to you ."
   ]
  },
  {
   "cell_type": "code",
   "execution_count": 18,
   "id": "5a6919a7",
   "metadata": {},
   "outputs": [
    {
     "name": "stdout",
     "output_type": "stream",
     "text": [
      "Requirement already satisfied: opencv-python in c:\\users\\rohit\\anaconda3\\lib\\site-packages (4.6.0.66)\n",
      "Requirement already satisfied: numpy>=1.19.3 in c:\\users\\rohit\\anaconda3\\lib\\site-packages (from opencv-python) (1.21.5)\n"
     ]
    }
   ],
   "source": [
    "!pip install opencv-python"
   ]
  },
  {
   "cell_type": "code",
   "execution_count": 19,
   "id": "e6597fb8",
   "metadata": {},
   "outputs": [
    {
     "ename": "ModuleNotFoundError",
     "evalue": "No module named 'filetype'",
     "output_type": "error",
     "traceback": [
      "\u001b[1;31m---------------------------------------------------------------------------\u001b[0m",
      "\u001b[1;31mModuleNotFoundError\u001b[0m                       Traceback (most recent call last)",
      "Input \u001b[1;32mIn [19]\u001b[0m, in \u001b[0;36m<cell line: 1>\u001b[1;34m()\u001b[0m\n\u001b[1;32m----> 1\u001b[0m \u001b[38;5;28;01mimport\u001b[39;00m \u001b[38;5;21;01mcv2\u001b[39;00m\u001b[38;5;241m,\u001b[39m \u001b[38;5;21;01mfiletype\u001b[39;00m\u001b[38;5;241m,\u001b[39m \u001b[38;5;21;01mos\u001b[39;00m\n\u001b[0;32m      2\u001b[0m \u001b[38;5;28;01mdef\u001b[39;00m \u001b[38;5;21mimg_reader\u001b[39m(dir_path,img_file):\n\u001b[0;32m      3\u001b[0m     \u001b[38;5;124;03m\"\"\"\u001b[39;00m\n\u001b[0;32m      4\u001b[0m \u001b[38;5;124;03m    This functions reads and shows image file\u001b[39;00m\n\u001b[0;32m      5\u001b[0m \u001b[38;5;124;03m    \"\"\"\u001b[39;00m\n",
      "\u001b[1;31mModuleNotFoundError\u001b[0m: No module named 'filetype'"
     ]
    }
   ],
   "source": [
    "\n",
    "import cv2, filetype, os\n",
    "def img_reader(dir_path,img_file):\n",
    "    \"\"\"\n",
    "    This functions reads and shows image file\n",
    "    \"\"\"\n",
    "    c_path = os.path.join(dir_path,img_file)\n",
    "    if os.path.exists(c_path):\n",
    "        if filetype.is_image(c_path):\n",
    "            img = cv2.imread(c_path) \n",
    "            cv2.imshow('image', img)\n",
    "            cv2.waitKey(0) \n",
    "            cv2.destroyAllWindows() \n",
    "        else:\n",
    "            print(\"Please enter correct file as an argument\")\n",
    "    else:\n",
    "        print(\"Please enter correct path as an argument\")"
   ]
  },
  {
   "cell_type": "markdown",
   "id": "06fa127e",
   "metadata": {},
   "source": [
    "### 11 . write a function which can read video file and play for you ."
   ]
  },
  {
   "cell_type": "code",
   "execution_count": 21,
   "id": "1acdd504",
   "metadata": {},
   "outputs": [
    {
     "ename": "ModuleNotFoundError",
     "evalue": "No module named 'filetype'",
     "output_type": "error",
     "traceback": [
      "\u001b[1;31m---------------------------------------------------------------------------\u001b[0m",
      "\u001b[1;31mModuleNotFoundError\u001b[0m                       Traceback (most recent call last)",
      "Input \u001b[1;32mIn [21]\u001b[0m, in \u001b[0;36m<cell line: 1>\u001b[1;34m()\u001b[0m\n\u001b[1;32m----> 1\u001b[0m \u001b[38;5;28;01mimport\u001b[39;00m \u001b[38;5;21;01mcv2\u001b[39;00m\u001b[38;5;241m,\u001b[39m \u001b[38;5;21;01mfiletype\u001b[39;00m\u001b[38;5;241m,\u001b[39m \u001b[38;5;21;01mos\u001b[39;00m\n\u001b[0;32m      2\u001b[0m \u001b[38;5;28;01mdef\u001b[39;00m \u001b[38;5;21mvideo_player\u001b[39m(dir_path,v_file):\n\u001b[0;32m      3\u001b[0m     \u001b[38;5;124;03m\"\"\"\u001b[39;00m\n\u001b[0;32m      4\u001b[0m \u001b[38;5;124;03m    This functions reads and play video file\u001b[39;00m\n\u001b[0;32m      5\u001b[0m \u001b[38;5;124;03m    \"\"\"\u001b[39;00m\n",
      "\u001b[1;31mModuleNotFoundError\u001b[0m: No module named 'filetype'"
     ]
    }
   ],
   "source": [
    "import cv2, filetype, os\n",
    "def video_player(dir_path,v_file):\n",
    "    \"\"\"\n",
    "    This functions reads and play video file\n",
    "    \"\"\"\n",
    "    c_path = os.path.join(dir_path,v_file)\n",
    "    if os.path.exists(c_path):\n",
    "        if filetype.is_video(c_path):\n",
    "            print(2,c_path)\n",
    "            cap = cv2.VideoCapture(c_path) \n",
    "            if (cap.isOpened()== False): \n",
    "                print(\"Error opening video  file\")\n",
    "            while(cap.isOpened()):      \n",
    "                # Capture frame-by-frame\n",
    "                ret, frame = cap.read()\n",
    "                if ret == True:\n",
    "                    # Display the resulting frame\n",
    "                    cv2.imshow('Frame', frame)\n",
    "                    # Press Q on keyboard to  exit\n",
    "                    if cv2.waitKey(25) & 0xFF == ord('q'):\n",
    "                        break\n",
    "                else: \n",
    "                    break\n",
    "        else:\n",
    "            print(\"Please enter correct file as an argument\")\n",
    "    else:\n",
    "        print(\"Please enter correct path as an argument\")"
   ]
  },
  {
   "cell_type": "markdown",
   "id": "5a3349fa",
   "metadata": {},
   "source": [
    "### 12  . write a function whihc can move a file from one directory to another directory ."
   ]
  },
  {
   "cell_type": "code",
   "execution_count": 22,
   "id": "1285cb3b",
   "metadata": {},
   "outputs": [],
   "source": [
    "import os,shutil\n",
    "def move_file(path1,path2):\n",
    "    \"\"\"\n",
    "    This function will move a file from one directory to another directory\n",
    "    \"\"\"\n",
    "    if os.path.isfile(path1) and os.path.exists(path2):\n",
    "        shutil.move(path1, path2)\n",
    "    else:\n",
    "        print(\"Please enter correct path as an argument\")"
   ]
  },
  {
   "cell_type": "markdown",
   "id": "56b123ea",
   "metadata": {},
   "source": [
    "### 13 . write a function which will be able to shutdonw your system . "
   ]
  },
  {
   "cell_type": "code",
   "execution_count": 23,
   "id": "e34bbe19",
   "metadata": {},
   "outputs": [],
   "source": [
    "import os\n",
    "def system_shutdown():\n",
    "    \"\"\"\n",
    "    This function will shutdown your system.\n",
    "    \"\"\"\n",
    "    shutdown = input(\"Do you wish to shutdown your computer ? (yes / no): \")  \n",
    "    if shutdown.lower() == 'no':\n",
    "        os.system(\"shutdown /s /t 1\")\n",
    "    else:      \n",
    "        exit()"
   ]
  },
  {
   "cell_type": "markdown",
   "id": "66f58127",
   "metadata": {},
   "source": [
    "### 14 . write a function whihc will be able to access your mail ."
   ]
  },
  {
   "cell_type": "code",
   "execution_count": 26,
   "id": "57a5b107",
   "metadata": {},
   "outputs": [],
   "source": [
    "def access_mail(mailid,passwd,no_of_mails=100):\n",
    "    \"\"\"\n",
    "    This function will be able to access your mail.\n",
    "    \"\"\"\n",
    "    import imaplib,email\n",
    "    host = 'imap.gmail.com'\n",
    "    port=993\n",
    "    mail=imaplib.IMAP4_SSL(host,port)\n",
    "    mail.login(mailid,passwd)\n",
    "    mail.select('inbox')\n",
    "    data=mail.search(None,'ALL')\n",
    "    id_list=data[1][0].split()\n",
    "    first_msg=int(id_list[0])\n",
    "    latest_msg=int(id_list[-1])\n",
    "    \n",
    "    for index,i in enumerate(range(latest_msg,first_msg,-1)):\n",
    "        data=mail.fetch(str(i),'(RFC822)')\n",
    "        for response_part in data:\n",
    "            arr = response_part[0]\n",
    "            if isinstance(arr,tuple):\n",
    "                msg = email.message_from_string(str(arr[1],'utf-8'))\n",
    "                print(msg.keys())\n",
    "                email_subject = msg['subject']\n",
    "                email_from=msg['from']\n",
    "                date=msg['Date']\n",
    "                content_type=msg['Content-Type']\n",
    "                print(f\"Date: {date}\")\n",
    "                print(f\"{index+1} From: {email_from}\")\n",
    "                print(f\"Subject: {email_subject}\")\n",
    "                print(f\"content type: {content_type}\")\n",
    "                print(\"-\"*100)\n",
    "            if index == no_of_mails:\n",
    "                break"
   ]
  },
  {
   "cell_type": "code",
   "execution_count": 27,
   "id": "1f4eaa90",
   "metadata": {},
   "outputs": [
    {
     "ename": "AttributeError",
     "evalue": "'NoneType' object has no attribute 'replace'",
     "output_type": "error",
     "traceback": [
      "\u001b[1;31m---------------------------------------------------------------------------\u001b[0m",
      "\u001b[1;31mAttributeError\u001b[0m                            Traceback (most recent call last)",
      "Input \u001b[1;32mIn [27]\u001b[0m, in \u001b[0;36m<cell line: 5>\u001b[1;34m()\u001b[0m\n\u001b[0;32m      2\u001b[0m email_id\u001b[38;5;241m=\u001b[39mos\u001b[38;5;241m.\u001b[39menviron\u001b[38;5;241m.\u001b[39mget(\u001b[38;5;124m'\u001b[39m\u001b[38;5;124mEMAIL_USER\u001b[39m\u001b[38;5;124m'\u001b[39m)\n\u001b[0;32m      3\u001b[0m email_pass\u001b[38;5;241m=\u001b[39mos\u001b[38;5;241m.\u001b[39menviron\u001b[38;5;241m.\u001b[39mget(\u001b[38;5;124m'\u001b[39m\u001b[38;5;124mEMAIL_PASS\u001b[39m\u001b[38;5;124m'\u001b[39m)\n\u001b[1;32m----> 5\u001b[0m \u001b[43maccess_mail\u001b[49m\u001b[43m(\u001b[49m\u001b[43memail_id\u001b[49m\u001b[43m,\u001b[49m\u001b[43memail_pass\u001b[49m\u001b[43m)\u001b[49m\n",
      "Input \u001b[1;32mIn [26]\u001b[0m, in \u001b[0;36maccess_mail\u001b[1;34m(mailid, passwd, no_of_mails)\u001b[0m\n\u001b[0;32m      7\u001b[0m port\u001b[38;5;241m=\u001b[39m\u001b[38;5;241m993\u001b[39m\n\u001b[0;32m      8\u001b[0m mail\u001b[38;5;241m=\u001b[39mimaplib\u001b[38;5;241m.\u001b[39mIMAP4_SSL(host,port)\n\u001b[1;32m----> 9\u001b[0m \u001b[43mmail\u001b[49m\u001b[38;5;241;43m.\u001b[39;49m\u001b[43mlogin\u001b[49m\u001b[43m(\u001b[49m\u001b[43mmailid\u001b[49m\u001b[43m,\u001b[49m\u001b[43mpasswd\u001b[49m\u001b[43m)\u001b[49m\n\u001b[0;32m     10\u001b[0m mail\u001b[38;5;241m.\u001b[39mselect(\u001b[38;5;124m'\u001b[39m\u001b[38;5;124minbox\u001b[39m\u001b[38;5;124m'\u001b[39m)\n\u001b[0;32m     11\u001b[0m data\u001b[38;5;241m=\u001b[39mmail\u001b[38;5;241m.\u001b[39msearch(\u001b[38;5;28;01mNone\u001b[39;00m,\u001b[38;5;124m'\u001b[39m\u001b[38;5;124mALL\u001b[39m\u001b[38;5;124m'\u001b[39m)\n",
      "File \u001b[1;32m~\\anaconda3\\lib\\imaplib.py:610\u001b[0m, in \u001b[0;36mIMAP4.login\u001b[1;34m(self, user, password)\u001b[0m\n\u001b[0;32m    603\u001b[0m \u001b[38;5;28;01mdef\u001b[39;00m \u001b[38;5;21mlogin\u001b[39m(\u001b[38;5;28mself\u001b[39m, user, password):\n\u001b[0;32m    604\u001b[0m     \u001b[38;5;124;03m\"\"\"Identify client using plaintext password.\u001b[39;00m\n\u001b[0;32m    605\u001b[0m \n\u001b[0;32m    606\u001b[0m \u001b[38;5;124;03m    (typ, [data]) = <instance>.login(user, password)\u001b[39;00m\n\u001b[0;32m    607\u001b[0m \n\u001b[0;32m    608\u001b[0m \u001b[38;5;124;03m    NB: 'password' will be quoted.\u001b[39;00m\n\u001b[0;32m    609\u001b[0m \u001b[38;5;124;03m    \"\"\"\u001b[39;00m\n\u001b[1;32m--> 610\u001b[0m     typ, dat \u001b[38;5;241m=\u001b[39m \u001b[38;5;28mself\u001b[39m\u001b[38;5;241m.\u001b[39m_simple_command(\u001b[38;5;124m'\u001b[39m\u001b[38;5;124mLOGIN\u001b[39m\u001b[38;5;124m'\u001b[39m, user, \u001b[38;5;28;43mself\u001b[39;49m\u001b[38;5;241;43m.\u001b[39;49m\u001b[43m_quote\u001b[49m\u001b[43m(\u001b[49m\u001b[43mpassword\u001b[49m\u001b[43m)\u001b[49m)\n\u001b[0;32m    611\u001b[0m     \u001b[38;5;28;01mif\u001b[39;00m typ \u001b[38;5;241m!=\u001b[39m \u001b[38;5;124m'\u001b[39m\u001b[38;5;124mOK\u001b[39m\u001b[38;5;124m'\u001b[39m:\n\u001b[0;32m    612\u001b[0m         \u001b[38;5;28;01mraise\u001b[39;00m \u001b[38;5;28mself\u001b[39m\u001b[38;5;241m.\u001b[39merror(dat[\u001b[38;5;241m-\u001b[39m\u001b[38;5;241m1\u001b[39m])\n",
      "File \u001b[1;32m~\\anaconda3\\lib\\imaplib.py:1222\u001b[0m, in \u001b[0;36mIMAP4._quote\u001b[1;34m(self, arg)\u001b[0m\n\u001b[0;32m   1220\u001b[0m \u001b[38;5;28;01mdef\u001b[39;00m \u001b[38;5;21m_quote\u001b[39m(\u001b[38;5;28mself\u001b[39m, arg):\n\u001b[1;32m-> 1222\u001b[0m     arg \u001b[38;5;241m=\u001b[39m \u001b[43marg\u001b[49m\u001b[38;5;241;43m.\u001b[39;49m\u001b[43mreplace\u001b[49m(\u001b[38;5;124m'\u001b[39m\u001b[38;5;130;01m\\\\\u001b[39;00m\u001b[38;5;124m'\u001b[39m, \u001b[38;5;124m'\u001b[39m\u001b[38;5;130;01m\\\\\u001b[39;00m\u001b[38;5;130;01m\\\\\u001b[39;00m\u001b[38;5;124m'\u001b[39m)\n\u001b[0;32m   1223\u001b[0m     arg \u001b[38;5;241m=\u001b[39m arg\u001b[38;5;241m.\u001b[39mreplace(\u001b[38;5;124m'\u001b[39m\u001b[38;5;124m\"\u001b[39m\u001b[38;5;124m'\u001b[39m, \u001b[38;5;124m'\u001b[39m\u001b[38;5;130;01m\\\\\u001b[39;00m\u001b[38;5;124m\"\u001b[39m\u001b[38;5;124m'\u001b[39m)\n\u001b[0;32m   1225\u001b[0m     \u001b[38;5;28;01mreturn\u001b[39;00m \u001b[38;5;124m'\u001b[39m\u001b[38;5;124m\"\u001b[39m\u001b[38;5;124m'\u001b[39m \u001b[38;5;241m+\u001b[39m arg \u001b[38;5;241m+\u001b[39m \u001b[38;5;124m'\u001b[39m\u001b[38;5;124m\"\u001b[39m\u001b[38;5;124m'\u001b[39m\n",
      "\u001b[1;31mAttributeError\u001b[0m: 'NoneType' object has no attribute 'replace'"
     ]
    }
   ],
   "source": [
    "import os\n",
    "email_id=os.environ.get('EMAIL_USER')\n",
    "email_pass=os.environ.get('EMAIL_PASS')\n",
    "\n",
    "access_mail(email_id,email_pass)"
   ]
  },
  {
   "cell_type": "markdown",
   "id": "59e2dd7f",
   "metadata": {},
   "source": [
    "### 15 . write a func bywhcih i can send a mail to anyone "
   ]
  },
  {
   "cell_type": "code",
   "execution_count": 28,
   "id": "421963d7",
   "metadata": {},
   "outputs": [],
   "source": [
    "def send_mail(mailid,passwd,receiver):\n",
    "    \"\"\"\n",
    "    This function will be able to send mail.\n",
    "    \"\"\"\n",
    "    import smtplib\n",
    "\n",
    "    server = \"smtp.gmail.com\"\n",
    "    port=587\n",
    "    subject=input(\"Enter the subject: \")\n",
    "    message=input(\"Enter the message: \")\n",
    "\n",
    "    body=\"\"\"\n",
    "    Subject:{}\n",
    "\n",
    "    {}\n",
    "    \"\"\".format(subject,message)\n",
    "\n",
    "    #send mail\n",
    "    conn=smtplib.SMTP(server, port)\n",
    "    conn.starttls()\n",
    "    conn.login(mailid,email_pass)\n",
    "    conn.sendmail(email_id,receiver,body)\n",
    "    conn.quit()\n",
    "    print(\"Email sent successfully.\")"
   ]
  },
  {
   "cell_type": "code",
   "execution_count": null,
   "id": "2c73e351",
   "metadata": {},
   "outputs": [],
   "source": [
    "import os\n",
    "email_id=os.environ.get('EMAIL_USER')\n",
    "email_pass=os.environ.get('EMAIL_PASS')\n",
    "#receiver=input(\"Enter the receiver mail id: \")\n",
    "receiver=email_id\n",
    "send_mail(email_id,email_pass,receiver)"
   ]
  },
  {
   "cell_type": "markdown",
   "id": "832787a7",
   "metadata": {},
   "source": [
    "### 16. write a func to read a complete PDf file . "
   ]
  },
  {
   "cell_type": "code",
   "execution_count": null,
   "id": "ff692d3a",
   "metadata": {},
   "outputs": [],
   "source": [
    "import PyPDF2, os, filetype\n",
    "def pdf_reader(dir_path, pdf_name):\n",
    "    \"\"\"\n",
    "    This function reads a complete PDf file \n",
    "    \"\"\"\n",
    "    pdf_path = os.path.join(dir_path,pdf_name)\n",
    "    if os.path.exists(pdf_path) and filetype.guess(pdf_path).mime == 'application/pdf':\n",
    "        pdfFileObject = open(pdf_path, 'rb')\n",
    "        pdfReader = PyPDF2.PdfFileReader(pdfFileObject)\n",
    "        text=''\n",
    "        for i in range(0,pdfReader.numPages):\n",
    "            # creating a page object\n",
    "            pageObj = pdfReader.getPage(i)\n",
    "            # extracting text from page\n",
    "            text=text+pageObj.extractText()\n",
    "        return text\n",
    "    else:\n",
    "        print(\"Please enter correct path as an argument\")"
   ]
  },
  {
   "cell_type": "code",
   "execution_count": null,
   "id": "b69af490",
   "metadata": {},
   "outputs": [],
   "source": [
    "d=''\n",
    "f=\"generated.pdf\"\n",
    "pdf_reader(d,f)"
   ]
  },
  {
   "cell_type": "markdown",
   "id": "4e26a9c0",
   "metadata": {},
   "source": [
    "### 17. write a function to read a word file . "
   ]
  },
  {
   "cell_type": "code",
   "execution_count": null,
   "id": "ae179cae",
   "metadata": {},
   "outputs": [],
   "source": [
    "import docx, os\n",
    "def word_reader(dir_path, word_name):\n",
    "    \"\"\"\n",
    "    This function reads a word file \n",
    "    \"\"\"\n",
    "    word_path = os.path.join(dir_path,word_name)\n",
    "    if os.path.exists(word_path):\n",
    "        doc = docx.Document(word_path)\n",
    "        fullText = \"\"\n",
    "        for para in doc.paragraphs:\n",
    "            fullText += para.text\n",
    "            fullText += '\\n'\n",
    "        return fullText\n",
    "    else:\n",
    "        print(\"Please enter correct path as an argument\")"
   ]
  },
  {
   "cell_type": "code",
   "execution_count": null,
   "id": "c9eda2af",
   "metadata": {},
   "outputs": [],
   "source": [
    "d=''\n",
    "f=\"Assignment_1.docx\"\n",
    "print(word_reader(d,f))"
   ]
  },
  {
   "cell_type": "markdown",
   "id": "fb866f60",
   "metadata": {},
   "source": [
    "### 18 . write a function which can help you to filter only word file from a directory . "
   ]
  },
  {
   "cell_type": "code",
   "execution_count": null,
   "id": "ad62118c",
   "metadata": {},
   "outputs": [],
   "source": [
    "import os\n",
    "def word_file_finder(dir_path):\n",
    "    \"\"\"\n",
    "    This function filters only word file from a directory\n",
    "    \"\"\"\n",
    "    if os.path.exists(dir_path):\n",
    "        file_list=[]\n",
    "        for root, dirs, files in os.walk(dir_path):\n",
    "            for file in files:\n",
    "                if file.endswith('.docx'):\n",
    "                    file_list.append(os.path.join(root, file))\n",
    "        return file_list\n",
    "    else:\n",
    "        print(\"Please enter correct path as an argument\")"
   ]
  },
  {
   "cell_type": "markdown",
   "id": "5b45339d",
   "metadata": {},
   "source": [
    "### 19 . write a function by which you can print an ip address of your system ."
   ]
  },
  {
   "cell_type": "code",
   "execution_count": null,
   "id": "508a8d20",
   "metadata": {},
   "outputs": [],
   "source": [
    "import socket,re,uuid\n",
    "def ip_address():\n",
    "    \"\"\"\n",
    "    This function displays ip address of your system\n",
    "    \"\"\"\n",
    "    info={}\n",
    "    info['ip-address']=socket.gethostbyname(socket.gethostname())\n",
    "    info['mac-address']=':'.join(re.findall('..', '%012x' % uuid.getnode()))\n",
    "    return info"
   ]
  },
  {
   "cell_type": "code",
   "execution_count": null,
   "id": "3c7e36d0",
   "metadata": {},
   "outputs": [],
   "source": [
    "ip_address()"
   ]
  },
  {
   "cell_type": "markdown",
   "id": "7a93547f",
   "metadata": {},
   "source": [
    "### 20 . write a function by whihc you will be able to append two PDF files . "
   ]
  },
  {
   "cell_type": "code",
   "execution_count": null,
   "id": "a6fd138a",
   "metadata": {},
   "outputs": [],
   "source": [
    "import os,PyPDF2\n",
    "def pdf_merger(dir_path,file_name):\n",
    "    \"\"\"\n",
    "    This function filters only word file from a directory\n",
    "    \"\"\"\n",
    "    if dir_path == '':\n",
    "        dir_path =os.getcwd()\n",
    "    merged_file = os.path.join(dir_path,file_name)\n",
    "    merger = PyPDF2.PdfFileMerger()\n",
    "    for item in os.listdir(dir_path):\n",
    "        if item.endswith('.pdf'):\n",
    "            merger.append(item)\n",
    "    merger.write(f'{merged_file}')       \n",
    "    merger.close()\n",
    "    return f\"All pdf files merged to: {merged_file}\""
   ]
  },
  {
   "cell_type": "code",
   "execution_count": null,
   "id": "010216b5",
   "metadata": {},
   "outputs": [],
   "source": [
    "d=''\n",
    "f='MergedFile.pdf'\n",
    "pdf_merger(d,f)"
   ]
  },
  {
   "cell_type": "code",
   "execution_count": null,
   "id": "ab05512b",
   "metadata": {},
   "outputs": [],
   "source": []
  }
 ],
 "metadata": {
  "kernelspec": {
   "display_name": "Python 3 (ipykernel)",
   "language": "python",
   "name": "python3"
  },
  "language_info": {
   "codemirror_mode": {
    "name": "ipython",
    "version": 3
   },
   "file_extension": ".py",
   "mimetype": "text/x-python",
   "name": "python",
   "nbconvert_exporter": "python",
   "pygments_lexer": "ipython3",
   "version": "3.9.12"
  }
 },
 "nbformat": 4,
 "nbformat_minor": 5
}
